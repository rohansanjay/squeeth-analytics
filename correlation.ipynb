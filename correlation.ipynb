{
 "cells": [
  {
   "cell_type": "code",
   "execution_count": 49,
   "id": "meaningful-france",
   "metadata": {},
   "outputs": [],
   "source": [
    "import os\n",
    "from dotenv import load_dotenv\n",
    "load_dotenv()\n",
    "\n",
    "import numpy as np\n",
    "import pandas as pd\n",
    "import requests as r\n",
    "import json"
   ]
  },
  {
   "cell_type": "code",
   "execution_count": 39,
   "id": "destroyed-amino",
   "metadata": {},
   "outputs": [],
   "source": [
    "osqueeth__uniswap_pool_address = '0x82c427AdFDf2d245Ec51D8046b41c4ee87F0d29C'\n",
    "quote_currency = 'USD'\n",
    "output_format = 'csv'\n",
    "page_number = '1'\n",
    "page_size = '1'\n",
    "api_key = os.getenv('API_KEY')\n",
    "uniswap_pool_endpoint = 'https://api.covalenthq.com/v1/1/uniswap_v3/swaps/address/{_address}/?quote-currency={_quote_currency}&format={_format}&page-number={_page_number}&page-size={_pag_size}&key={_key}'.format(\n",
    "    _address=osqueeth__uniswap_pool_address, \n",
    "    _quote_currency=quote_currency, \n",
    "    _format=output_format, \n",
    "    _page_number=page_number, \n",
    "    _pag_size=page_size, \n",
    "    _key=api_key\n",
    ")"
   ]
  },
  {
   "cell_type": "code",
   "execution_count": 55,
   "id": "concrete-senate",
   "metadata": {},
   "outputs": [],
   "source": [
    "osqueeth_address = '0xf1B99e3E573A1a9C5E6B2Ce818b617F0E664E86B'\n",
    "eth_address = '0xC02aaA39b223FE8D0A0e5C4F27eAD9083C756Cc2'\n",
    "quote_currency = 'USC'\n",
    "output_format = 'JSON'\n",
    "from_date = '2022-01-19'\n",
    "to_date = '2022-01-20'\n",
    "api_key = os.getenv('API_KEY')\n",
    "\n",
    "osqueeth_historical_price_endpoint = 'https://api.covalenthq.com/v1/pricing/historical_by_addresses_v2/1/USD/{_address}/?quote-currency={_quote_currency}&format={_format}&from={_from}&to={_to}&key={_key}'.format(\n",
    "    _address=osqueeth_address,\n",
    "    _quote_currency=quote_currency,\n",
    "    _format=output_format,\n",
    "    _from=from_date,\n",
    "    _to=to_date,\n",
    "    _key=api_key\n",
    ")\n",
    "\n",
    "eth_historical_price_endpoint = 'https://api.covalenthq.com/v1/pricing/historical_by_addresses_v2/1/USD/{_address}/?quote-currency={_quote_currency}&format={_format}&from={_from}&to={_to}&key={_key}'.format(\n",
    "    _address=eth_address,\n",
    "    _quote_currency=quote_currency,\n",
    "    _format=output_format,\n",
    "    _from=from_date,\n",
    "    _to=to_date,\n",
    "    _key=api_key\n",
    ")"
   ]
  },
  {
   "cell_type": "code",
   "execution_count": 56,
   "id": "broken-rover",
   "metadata": {},
   "outputs": [],
   "source": [
    "res = r.get(osqueeth_historical_price_endpoint)"
   ]
  },
  {
   "cell_type": "code",
   "execution_count": 58,
   "id": "noticed-diana",
   "metadata": {},
   "outputs": [
    {
     "data": {
      "text/plain": [
       "[{'contract_decimals': 18,\n",
       "  'contract_name': 'Opyn Squeeth',\n",
       "  'contract_ticker_symbol': 'oSQTH',\n",
       "  'contract_address': '0xf1b99e3e573a1a9c5e6b2ce818b617f0e664e86b',\n",
       "  'supports_erc': ['erc20'],\n",
       "  'logo_url': 'https://logos.covalenthq.com/tokens/0xf1b99e3e573a1a9c5e6b2ce818b617f0e664e86b.png',\n",
       "  'update_at': '2022-03-06T05:35:06.142699685Z',\n",
       "  'quote_currency': 'USD',\n",
       "  'prices': [{'contract_metadata': {'contract_decimals': 18,\n",
       "     'contract_name': 'Opyn Squeeth',\n",
       "     'contract_ticker_symbol': 'oSQTH',\n",
       "     'contract_address': '0xf1b99e3e573a1a9c5e6b2ce818b617f0e664e86b',\n",
       "     'supports_erc': ['erc20'],\n",
       "     'logo_url': 'https://logos.covalenthq.com/tokens/0xf1b99e3e573a1a9c5e6b2ce818b617f0e664e86b.png'},\n",
       "    'date': '2022-01-20',\n",
       "    'price': 973.64923},\n",
       "   {'contract_metadata': {'contract_decimals': 18,\n",
       "     'contract_name': 'Opyn Squeeth',\n",
       "     'contract_ticker_symbol': 'oSQTH',\n",
       "     'contract_address': '0xf1b99e3e573a1a9c5e6b2ce818b617f0e664e86b',\n",
       "     'supports_erc': ['erc20'],\n",
       "     'logo_url': 'https://logos.covalenthq.com/tokens/0xf1b99e3e573a1a9c5e6b2ce818b617f0e664e86b.png'},\n",
       "    'date': '2022-01-19',\n",
       "    'price': 988.7125}],\n",
       "  'items': [{'contract_metadata': {'contract_decimals': 18,\n",
       "     'contract_name': 'Opyn Squeeth',\n",
       "     'contract_ticker_symbol': 'oSQTH',\n",
       "     'contract_address': '0xf1b99e3e573a1a9c5e6b2ce818b617f0e664e86b',\n",
       "     'supports_erc': ['erc20'],\n",
       "     'logo_url': 'https://logos.covalenthq.com/tokens/0xf1b99e3e573a1a9c5e6b2ce818b617f0e664e86b.png'},\n",
       "    'date': '2022-01-20',\n",
       "    'price': 973.64923},\n",
       "   {'contract_metadata': {'contract_decimals': 18,\n",
       "     'contract_name': 'Opyn Squeeth',\n",
       "     'contract_ticker_symbol': 'oSQTH',\n",
       "     'contract_address': '0xf1b99e3e573a1a9c5e6b2ce818b617f0e664e86b',\n",
       "     'supports_erc': ['erc20'],\n",
       "     'logo_url': 'https://logos.covalenthq.com/tokens/0xf1b99e3e573a1a9c5e6b2ce818b617f0e664e86b.png'},\n",
       "    'date': '2022-01-19',\n",
       "    'price': 988.7125}]}]"
      ]
     },
     "execution_count": 58,
     "metadata": {},
     "output_type": "execute_result"
    }
   ],
   "source": [
    "res.json().get('data')"
   ]
  },
  {
   "cell_type": "code",
   "execution_count": 51,
   "id": "effective-rhythm",
   "metadata": {},
   "outputs": [
    {
     "data": {
      "text/plain": [
       "<Response [200]>"
      ]
     },
     "execution_count": 51,
     "metadata": {},
     "output_type": "execute_result"
    }
   ],
   "source": [
    "r.get(osqueeth_historical_price_endpoint)"
   ]
  }
 ],
 "metadata": {
  "kernelspec": {
   "display_name": "Python 3",
   "language": "python",
   "name": "python3"
  },
  "language_info": {
   "codemirror_mode": {
    "name": "ipython",
    "version": 3
   },
   "file_extension": ".py",
   "mimetype": "text/x-python",
   "name": "python",
   "nbconvert_exporter": "python",
   "pygments_lexer": "ipython3",
   "version": "3.9.4"
  }
 },
 "nbformat": 4,
 "nbformat_minor": 5
}
