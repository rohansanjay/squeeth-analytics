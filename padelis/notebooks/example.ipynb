{
 "cells": [
  {
   "cell_type": "code",
   "execution_count": 31,
   "metadata": {},
   "outputs": [],
   "source": [
    "import projectpath\n",
    "import d01_pull as pull  \n",
    "import json\n",
    "import pandas as pd \n",
    "import numpy as np \n",
    "import re \n",
    "import os "
   ]
  },
  {
   "cell_type": "code",
   "execution_count": 32,
   "metadata": {},
   "outputs": [],
   "source": [
    "# save path \n",
    "save_path = '../data/'\n",
    "temp_save_path = save_path+'data.pickle'\n",
    "\n",
    "# dune.xyz, variables --> need to create dune account \n",
    "user = os.getenv('DUNE_USER') # Alternatively substitute these \n",
    "password = os.getenv('DUNE_PASS')\n",
    "\n",
    "# initialize client, create session  \n",
    "dune = pull.DuneAnalytics(user, password)\n",
    "\n",
    "# try to login\n",
    "dune.login()\n",
    "\n",
    "# fetch token \n",
    "dune.fetch_auth_token()\n",
    "\n",
    "#url \n",
    "url = 'https://dune.com/queries/545015/1097759'"
   ]
  },
  {
   "cell_type": "code",
   "execution_count": 33,
   "metadata": {},
   "outputs": [],
   "source": [
    "data = dune.query_result_df(url)"
   ]
  },
  {
   "cell_type": "code",
   "execution_count": 34,
   "metadata": {},
   "outputs": [
    {
     "data": {
      "text/html": [
       "<div>\n",
       "<style scoped>\n",
       "    .dataframe tbody tr th:only-of-type {\n",
       "        vertical-align: middle;\n",
       "    }\n",
       "\n",
       "    .dataframe tbody tr th {\n",
       "        vertical-align: top;\n",
       "    }\n",
       "\n",
       "    .dataframe thead th {\n",
       "        text-align: right;\n",
       "    }\n",
       "</style>\n",
       "<table border=\"1\" class=\"dataframe\">\n",
       "  <thead>\n",
       "    <tr style=\"text-align: right;\">\n",
       "      <th></th>\n",
       "      <th>eth_price</th>\n",
       "      <th>eth_sqaured_price</th>\n",
       "      <th>funding_rate</th>\n",
       "      <th>hour</th>\n",
       "      <th>normalization_factor</th>\n",
       "      <th>osqth_price</th>\n",
       "      <th>rolling_corr_eth_squeeth</th>\n",
       "      <th>rolling_corr_funding_osqth</th>\n",
       "      <th>squeeth_price</th>\n",
       "    </tr>\n",
       "  </thead>\n",
       "  <tbody>\n",
       "    <tr>\n",
       "      <th>0</th>\n",
       "      <td>3112.53</td>\n",
       "      <td>9687843.0009</td>\n",
       "      <td>0.006905</td>\n",
       "      <td>2022-01-11T07:00:00+00:00</td>\n",
       "      <td>0.999701</td>\n",
       "      <td>1085.939588</td>\n",
       "      <td>None</td>\n",
       "      <td>None</td>\n",
       "      <td>10862648.485064</td>\n",
       "    </tr>\n",
       "    <tr>\n",
       "      <th>1</th>\n",
       "      <td>3121.989414</td>\n",
       "      <td>9746817.898697</td>\n",
       "      <td>0.007711</td>\n",
       "      <td>2022-01-11T08:00:00+00:00</td>\n",
       "      <td>0.999515</td>\n",
       "      <td>1119.910978</td>\n",
       "      <td>1</td>\n",
       "      <td>1</td>\n",
       "      <td>11204543.800037</td>\n",
       "    </tr>\n",
       "    <tr>\n",
       "      <th>2</th>\n",
       "      <td>3118.32</td>\n",
       "      <td>9723919.6224</td>\n",
       "      <td>0.008414</td>\n",
       "      <td>2022-01-11T09:00:00+00:00</td>\n",
       "      <td>0.998985</td>\n",
       "      <td>1127.86728</td>\n",
       "      <td>0.833589</td>\n",
       "      <td>0.954041</td>\n",
       "      <td>11290127.247571</td>\n",
       "    </tr>\n",
       "    <tr>\n",
       "      <th>3</th>\n",
       "      <td>3115.97</td>\n",
       "      <td>9709269.0409</td>\n",
       "      <td>0.008484</td>\n",
       "      <td>2022-01-11T10:00:00+00:00</td>\n",
       "      <td>0.998918</td>\n",
       "      <td>1136.104831</td>\n",
       "      <td>0.554795</td>\n",
       "      <td>0.968056</td>\n",
       "      <td>11373355.797651</td>\n",
       "    </tr>\n",
       "    <tr>\n",
       "      <th>4</th>\n",
       "      <td>3107.206006</td>\n",
       "      <td>9654729.161889</td>\n",
       "      <td>0.009649</td>\n",
       "      <td>2022-01-11T11:00:00+00:00</td>\n",
       "      <td>0.998148</td>\n",
       "      <td>1168.579202</td>\n",
       "      <td>-0.394294</td>\n",
       "      <td>0.987015</td>\n",
       "      <td>11707478.760668</td>\n",
       "    </tr>\n",
       "  </tbody>\n",
       "</table>\n",
       "</div>"
      ],
      "text/plain": [
       "     eth_price eth_sqaured_price funding_rate                       hour  \\\n",
       "0      3112.53      9687843.0009     0.006905  2022-01-11T07:00:00+00:00   \n",
       "1  3121.989414    9746817.898697     0.007711  2022-01-11T08:00:00+00:00   \n",
       "2      3118.32      9723919.6224     0.008414  2022-01-11T09:00:00+00:00   \n",
       "3      3115.97      9709269.0409     0.008484  2022-01-11T10:00:00+00:00   \n",
       "4  3107.206006    9654729.161889     0.009649  2022-01-11T11:00:00+00:00   \n",
       "\n",
       "  normalization_factor  osqth_price rolling_corr_eth_squeeth  \\\n",
       "0             0.999701  1085.939588                     None   \n",
       "1             0.999515  1119.910978                        1   \n",
       "2             0.998985   1127.86728                 0.833589   \n",
       "3             0.998918  1136.104831                 0.554795   \n",
       "4             0.998148  1168.579202                -0.394294   \n",
       "\n",
       "  rolling_corr_funding_osqth    squeeth_price  \n",
       "0                       None  10862648.485064  \n",
       "1                          1  11204543.800037  \n",
       "2                   0.954041  11290127.247571  \n",
       "3                   0.968056  11373355.797651  \n",
       "4                   0.987015  11707478.760668  "
      ]
     },
     "execution_count": 34,
     "metadata": {},
     "output_type": "execute_result"
    }
   ],
   "source": [
    "data.head() "
   ]
  },
  {
   "cell_type": "code",
   "execution_count": 35,
   "metadata": {},
   "outputs": [],
   "source": [
    "data.to_pickle(temp_save_path)"
   ]
  }
 ],
 "metadata": {
  "interpreter": {
   "hash": "99d27be14933bfd1c96ee90b3da71dfe8733414a2c3de68c07f4728d07e7e310"
  },
  "kernelspec": {
   "display_name": "Python 3.8.12",
   "language": "python",
   "name": "python3"
  },
  "language_info": {
   "codemirror_mode": {
    "name": "ipython",
    "version": 3
   },
   "file_extension": ".py",
   "mimetype": "text/x-python",
   "name": "python",
   "nbconvert_exporter": "python",
   "pygments_lexer": "ipython3",
   "version": "3.8.12"
  },
  "orig_nbformat": 4
 },
 "nbformat": 4,
 "nbformat_minor": 2
}
