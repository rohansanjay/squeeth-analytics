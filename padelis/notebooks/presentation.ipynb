{
 "cells": [
  {
   "cell_type": "code",
   "execution_count": 13,
   "metadata": {},
   "outputs": [],
   "source": [
    "import pandas as pd \n",
    "import numpy as np \n",
    "import seaborn as sns \n",
    "import matplotlib.pyplot as plt "
   ]
  },
  {
   "cell_type": "code",
   "execution_count": 14,
   "metadata": {},
   "outputs": [],
   "source": [
    "historical = '../data/historical.pickle'"
   ]
  },
  {
   "cell_type": "code",
   "execution_count": 15,
   "metadata": {},
   "outputs": [
    {
     "data": {
      "text/html": [
       "<div>\n",
       "<style scoped>\n",
       "    .dataframe tbody tr th:only-of-type {\n",
       "        vertical-align: middle;\n",
       "    }\n",
       "\n",
       "    .dataframe tbody tr th {\n",
       "        vertical-align: top;\n",
       "    }\n",
       "\n",
       "    .dataframe thead th {\n",
       "        text-align: right;\n",
       "    }\n",
       "</style>\n",
       "<table border=\"1\" class=\"dataframe\">\n",
       "  <thead>\n",
       "    <tr style=\"text-align: right;\">\n",
       "      <th></th>\n",
       "      <th>date</th>\n",
       "      <th>underlying_price</th>\n",
       "      <th>current_index</th>\n",
       "      <th>current_mark</th>\n",
       "      <th>index</th>\n",
       "      <th>mark</th>\n",
       "      <th>current_implied_funding_value</th>\n",
       "      <th>daily_funding_value</th>\n",
       "      <th>current_implied_volatility_value</th>\n",
       "      <th>daily_implied_volatility_value</th>\n",
       "      <th>normalization_factor</th>\n",
       "      <th>oSQTH_price</th>\n",
       "      <th>delta</th>\n",
       "      <th>gamma</th>\n",
       "      <th>vega</th>\n",
       "      <th>volume_osqth</th>\n",
       "      <th>volume_usd</th>\n",
       "    </tr>\n",
       "  </thead>\n",
       "  <tbody>\n",
       "    <tr>\n",
       "      <th>0</th>\n",
       "      <td>2022-02-27 00:00:00</td>\n",
       "      <td>2775.28</td>\n",
       "      <td>7702168.34</td>\n",
       "      <td>8137166.90</td>\n",
       "      <td>7787355.61</td>\n",
       "      <td>8212370.48</td>\n",
       "      <td>0.314</td>\n",
       "      <td>0.304</td>\n",
       "      <td>107.05</td>\n",
       "      <td>105.28</td>\n",
       "      <td>0.828</td>\n",
       "      <td>673.86</td>\n",
       "      <td>0.486</td>\n",
       "      <td>0.000175</td>\n",
       "      <td>0.000249</td>\n",
       "      <td>NaN</td>\n",
       "      <td>NaN</td>\n",
       "    </tr>\n",
       "    <tr>\n",
       "      <th>1</th>\n",
       "      <td>2022-02-27 00:05:00</td>\n",
       "      <td>2774.40</td>\n",
       "      <td>7702168.34</td>\n",
       "      <td>8137253.94</td>\n",
       "      <td>7787355.61</td>\n",
       "      <td>8212458.33</td>\n",
       "      <td>0.314</td>\n",
       "      <td>0.304</td>\n",
       "      <td>107.06</td>\n",
       "      <td>105.29</td>\n",
       "      <td>0.828</td>\n",
       "      <td>673.65</td>\n",
       "      <td>0.485</td>\n",
       "      <td>0.000175</td>\n",
       "      <td>0.000249</td>\n",
       "      <td>NaN</td>\n",
       "      <td>NaN</td>\n",
       "    </tr>\n",
       "    <tr>\n",
       "      <th>2</th>\n",
       "      <td>2022-02-27 00:10:00</td>\n",
       "      <td>2777.74</td>\n",
       "      <td>7720674.82</td>\n",
       "      <td>8147107.71</td>\n",
       "      <td>7787355.61</td>\n",
       "      <td>8212542.69</td>\n",
       "      <td>0.307</td>\n",
       "      <td>0.304</td>\n",
       "      <td>105.89</td>\n",
       "      <td>105.30</td>\n",
       "      <td>0.828</td>\n",
       "      <td>674.46</td>\n",
       "      <td>0.485</td>\n",
       "      <td>0.000175</td>\n",
       "      <td>0.000246</td>\n",
       "      <td>NaN</td>\n",
       "      <td>NaN</td>\n",
       "    </tr>\n",
       "    <tr>\n",
       "      <th>3</th>\n",
       "      <td>2022-02-27 00:15:00</td>\n",
       "      <td>2777.97</td>\n",
       "      <td>7737678.15</td>\n",
       "      <td>8156164.51</td>\n",
       "      <td>7787355.61</td>\n",
       "      <td>8212633.82</td>\n",
       "      <td>0.301</td>\n",
       "      <td>0.304</td>\n",
       "      <td>104.81</td>\n",
       "      <td>105.31</td>\n",
       "      <td>0.828</td>\n",
       "      <td>674.52</td>\n",
       "      <td>0.485</td>\n",
       "      <td>0.000175</td>\n",
       "      <td>0.000244</td>\n",
       "      <td>NaN</td>\n",
       "      <td>NaN</td>\n",
       "    </tr>\n",
       "    <tr>\n",
       "      <th>4</th>\n",
       "      <td>2022-02-27 00:20:00</td>\n",
       "      <td>2782.57</td>\n",
       "      <td>7737678.15</td>\n",
       "      <td>8156249.01</td>\n",
       "      <td>7787355.61</td>\n",
       "      <td>8212718.91</td>\n",
       "      <td>0.301</td>\n",
       "      <td>0.304</td>\n",
       "      <td>104.82</td>\n",
       "      <td>105.32</td>\n",
       "      <td>0.828</td>\n",
       "      <td>675.63</td>\n",
       "      <td>0.486</td>\n",
       "      <td>0.000175</td>\n",
       "      <td>0.000244</td>\n",
       "      <td>NaN</td>\n",
       "      <td>NaN</td>\n",
       "    </tr>\n",
       "  </tbody>\n",
       "</table>\n",
       "</div>"
      ],
      "text/plain": [
       "                 date  underlying_price  current_index  current_mark  \\\n",
       "0 2022-02-27 00:00:00           2775.28     7702168.34    8137166.90   \n",
       "1 2022-02-27 00:05:00           2774.40     7702168.34    8137253.94   \n",
       "2 2022-02-27 00:10:00           2777.74     7720674.82    8147107.71   \n",
       "3 2022-02-27 00:15:00           2777.97     7737678.15    8156164.51   \n",
       "4 2022-02-27 00:20:00           2782.57     7737678.15    8156249.01   \n",
       "\n",
       "        index        mark  current_implied_funding_value  daily_funding_value  \\\n",
       "0  7787355.61  8212370.48                          0.314                0.304   \n",
       "1  7787355.61  8212458.33                          0.314                0.304   \n",
       "2  7787355.61  8212542.69                          0.307                0.304   \n",
       "3  7787355.61  8212633.82                          0.301                0.304   \n",
       "4  7787355.61  8212718.91                          0.301                0.304   \n",
       "\n",
       "   current_implied_volatility_value  daily_implied_volatility_value  \\\n",
       "0                            107.05                          105.28   \n",
       "1                            107.06                          105.29   \n",
       "2                            105.89                          105.30   \n",
       "3                            104.81                          105.31   \n",
       "4                            104.82                          105.32   \n",
       "\n",
       "   normalization_factor  oSQTH_price  delta     gamma      vega  volume_osqth  \\\n",
       "0                 0.828       673.86  0.486  0.000175  0.000249           NaN   \n",
       "1                 0.828       673.65  0.485  0.000175  0.000249           NaN   \n",
       "2                 0.828       674.46  0.485  0.000175  0.000246           NaN   \n",
       "3                 0.828       674.52  0.485  0.000175  0.000244           NaN   \n",
       "4                 0.828       675.63  0.486  0.000175  0.000244           NaN   \n",
       "\n",
       "   volume_usd  \n",
       "0         NaN  \n",
       "1         NaN  \n",
       "2         NaN  \n",
       "3         NaN  \n",
       "4         NaN  "
      ]
     },
     "execution_count": 15,
     "metadata": {},
     "output_type": "execute_result"
    }
   ],
   "source": [
    "data = pd.read_pickle(historical)\n",
    "data.head() "
   ]
  },
  {
   "cell_type": "code",
   "execution_count": 16,
   "metadata": {},
   "outputs": [
    {
     "data": {
      "text/plain": [
       "1.0528"
      ]
     },
     "execution_count": 16,
     "metadata": {},
     "output_type": "execute_result"
    }
   ],
   "source": [
    "sigma = (data.loc[0,'daily_implied_volatility_value']/100)\n",
    "sigma"
   ]
  },
  {
   "cell_type": "code",
   "execution_count": 17,
   "metadata": {},
   "outputs": [
    {
     "data": {
      "text/plain": [
       "2775.28"
      ]
     },
     "execution_count": 17,
     "metadata": {},
     "output_type": "execute_result"
    }
   ],
   "source": [
    "eth = data.loc[0,'underlying_price']\n",
    "eth"
   ]
  },
  {
   "cell_type": "code",
   "execution_count": 18,
   "metadata": {},
   "outputs": [
    {
     "data": {
      "text/plain": [
       "7702168.34"
      ]
     },
     "execution_count": 18,
     "metadata": {},
     "output_type": "execute_result"
    }
   ],
   "source": [
    "eth_squarted = data.loc[0,'current_index']\n",
    "eth_squarted"
   ]
  }
 ],
 "metadata": {
  "interpreter": {
   "hash": "99d27be14933bfd1c96ee90b3da71dfe8733414a2c3de68c07f4728d07e7e310"
  },
  "kernelspec": {
   "display_name": "Python 3.8.12",
   "language": "python",
   "name": "python3"
  },
  "language_info": {
   "codemirror_mode": {
    "name": "ipython",
    "version": 3
   },
   "file_extension": ".py",
   "mimetype": "text/x-python",
   "name": "python",
   "nbconvert_exporter": "python",
   "pygments_lexer": "ipython3",
   "version": "3.8.12"
  },
  "orig_nbformat": 4
 },
 "nbformat": 4,
 "nbformat_minor": 2
}
